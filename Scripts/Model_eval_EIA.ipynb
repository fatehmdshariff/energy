{
 "cells": [
  {
   "cell_type": "code",
   "execution_count": 2,
   "id": "9b7a203a",
   "metadata": {},
   "outputs": [
    {
     "data": {
      "text/html": [
       "<div>\n",
       "<style scoped>\n",
       "    .dataframe tbody tr th:only-of-type {\n",
       "        vertical-align: middle;\n",
       "    }\n",
       "\n",
       "    .dataframe tbody tr th {\n",
       "        vertical-align: top;\n",
       "    }\n",
       "\n",
       "    .dataframe thead th {\n",
       "        text-align: right;\n",
       "    }\n",
       "</style>\n",
       "<table border=\"1\" class=\"dataframe\">\n",
       "  <thead>\n",
       "    <tr style=\"text-align: right;\">\n",
       "      <th></th>\n",
       "      <th>datetime</th>\n",
       "      <th>load_mw</th>\n",
       "    </tr>\n",
       "  </thead>\n",
       "  <tbody>\n",
       "    <tr>\n",
       "      <th>0</th>\n",
       "      <td>2023-01-01 00:00:00</td>\n",
       "      <td>-7211</td>\n",
       "    </tr>\n",
       "    <tr>\n",
       "      <th>1</th>\n",
       "      <td>2023-01-01 00:00:00</td>\n",
       "      <td>29324</td>\n",
       "    </tr>\n",
       "    <tr>\n",
       "      <th>2</th>\n",
       "      <td>2023-01-01 00:00:00</td>\n",
       "      <td>22239</td>\n",
       "    </tr>\n",
       "    <tr>\n",
       "      <th>3</th>\n",
       "      <td>2023-01-01 00:00:00</td>\n",
       "      <td>28753</td>\n",
       "    </tr>\n",
       "    <tr>\n",
       "      <th>4</th>\n",
       "      <td>2023-01-01 01:00:00</td>\n",
       "      <td>30063</td>\n",
       "    </tr>\n",
       "  </tbody>\n",
       "</table>\n",
       "</div>"
      ],
      "text/plain": [
       "              datetime  load_mw\n",
       "0  2023-01-01 00:00:00    -7211\n",
       "1  2023-01-01 00:00:00    29324\n",
       "2  2023-01-01 00:00:00    22239\n",
       "3  2023-01-01 00:00:00    28753\n",
       "4  2023-01-01 01:00:00    30063"
      ]
     },
     "execution_count": 2,
     "metadata": {},
     "output_type": "execute_result"
    }
   ],
   "source": [
    "import pandas as pd\n",
    "import matplotlib.pyplot as plt\n",
    "\n",
    "# Load the dataset\n",
    "df = pd.read_csv(r'D:\\Projects_25\\Energy_Ananlysis\\energy\\Datasets\\eia_training_data_2023.csv')\n",
    "df.head()\n"
   ]
  },
  {
   "cell_type": "code",
   "execution_count": 3,
   "id": "8424132c",
   "metadata": {},
   "outputs": [
    {
     "name": "stdout",
     "output_type": "stream",
     "text": [
      "(34948, 2)\n",
      "datetime    0\n",
      "load_mw     0\n",
      "dtype: int64\n",
      "datetime    object\n",
      "load_mw      int64\n",
      "dtype: object\n",
      "datetime     8737\n",
      "load_mw     20491\n",
      "dtype: int64\n"
     ]
    }
   ],
   "source": [
    "# Check shape and nulls\n",
    "print(df.shape)\n",
    "print(df.isnull().sum())\n",
    "\n",
    "# Check datatypes\n",
    "print(df.dtypes)\n",
    "\n",
    "# Optional: check unique values\n",
    "print(df.nunique())\n"
   ]
  },
  {
   "cell_type": "code",
   "execution_count": 4,
   "id": "e26c8fb5",
   "metadata": {},
   "outputs": [
    {
     "name": "stdout",
     "output_type": "stream",
     "text": [
      "(34948, 1)\n",
      "load_mw    0\n",
      "dtype: int64\n",
      "load_mw    int64\n",
      "dtype: object\n"
     ]
    }
   ],
   "source": [
    "# Convert datetime column\n",
    "df['datetime'] = pd.to_datetime(df['datetime'], errors='coerce')\n",
    "\n",
    "# Convert load_mw to numeric (if not already), force errors to NaN\n",
    "df['load_mw'] = pd.to_numeric(df['load_mw'], errors='coerce')\n",
    "\n",
    "# Drop rows with any nulls in datetime or load_mw\n",
    "df = df.dropna(subset=['datetime', 'load_mw'])\n",
    "\n",
    "# Set datetime as index\n",
    "df = df.sort_values('datetime')\n",
    "df = df.set_index('datetime')\n",
    "\n",
    "# Final check\n",
    "print(df.shape)\n",
    "print(df.isna().sum())\n",
    "print(df.dtypes)\n"
   ]
  },
  {
   "cell_type": "code",
   "execution_count": 5,
   "id": "25b26ed1",
   "metadata": {},
   "outputs": [
    {
     "name": "stdout",
     "output_type": "stream",
     "text": [
      "(34924, 10)\n",
      "                     load_mw  hour  dayofweek  month  is_weekend    lag_1  \\\n",
      "datetime                                                                    \n",
      "2023-01-01 06:00:00    29441     6          6      1           1  30447.0   \n",
      "2023-01-01 06:00:00    19700     6          6      1           1  29441.0   \n",
      "2023-01-01 06:00:00    28880     6          6      1           1  19700.0   \n",
      "2023-01-01 06:00:00    -8371     6          6      1           1  28880.0   \n",
      "2023-01-01 07:00:00    28658     7          6      1           1  -8371.0   \n",
      "\n",
      "                       lag_2   lag_24  rolling_mean_3  rolling_mean_24  \n",
      "datetime                                                                \n",
      "2023-01-01 06:00:00  29688.0  -7211.0    29858.666667     20435.416667  \n",
      "2023-01-01 06:00:00  30447.0  29324.0    26529.333333     20034.416667  \n",
      "2023-01-01 06:00:00  29441.0  22239.0    26007.000000     20311.125000  \n",
      "2023-01-01 06:00:00  19700.0  28753.0    13403.000000     18764.291667  \n",
      "2023-01-01 07:00:00  28880.0  30063.0    16389.000000     18705.750000  \n"
     ]
    }
   ],
   "source": [
    "# Feature Engineering\n",
    "df['hour'] = df.index.hour\n",
    "df['dayofweek'] = df.index.dayofweek\n",
    "df['month'] = df.index.month\n",
    "df['is_weekend'] = df['dayofweek'].apply(lambda x: 1 if x >= 5 else 0)\n",
    "\n",
    "# Lag Features\n",
    "df['lag_1'] = df['load_mw'].shift(1)\n",
    "df['lag_2'] = df['load_mw'].shift(2)\n",
    "df['lag_24'] = df['load_mw'].shift(24)\n",
    "\n",
    "# Rolling Features\n",
    "df['rolling_mean_3'] = df['load_mw'].rolling(window=3).mean()\n",
    "df['rolling_mean_24'] = df['load_mw'].rolling(window=24).mean()\n",
    "\n",
    "# Drop rows with NaNs (due to lag/rolling windows)\n",
    "df = df.dropna()\n",
    "\n",
    "# Final check\n",
    "print(df.shape)\n",
    "print(df.head())\n"
   ]
  },
  {
   "cell_type": "code",
   "execution_count": 6,
   "id": "00d3bf87",
   "metadata": {},
   "outputs": [],
   "source": [
    "from sklearn.model_selection import train_test_split\n",
    "\n",
    "# Define features and target\n",
    "features = ['hour', 'dayofweek', 'month', 'is_weekend',\n",
    "            'lag_1', 'lag_2', 'lag_24', 'rolling_mean_3', 'rolling_mean_24']\n",
    "target = 'load_mw'\n",
    "\n",
    "X = df[features]\n",
    "y = df[target]\n",
    "\n",
    "# Split data (80% train, 20% test)\n",
    "X_train, X_test, y_train, y_test = train_test_split(\n",
    "    X, y, test_size=0.2, random_state=42, shuffle=False  # no shuffle to preserve time order\n",
    ")\n"
   ]
  },
  {
   "cell_type": "code",
   "execution_count": 8,
   "id": "b35c3cb3",
   "metadata": {},
   "outputs": [],
   "source": [
    "from sklearn.ensemble import RandomForestRegressor\n",
    "\n",
    "# Initialize and train model\n",
    "model = RandomForestRegressor(n_estimators=100, random_state=42)\n",
    "model.fit(X_train, y_train)\n",
    "\n",
    "# Predictions\n",
    "y_pred = model.predict(X_test)\n"
   ]
  },
  {
   "cell_type": "code",
   "execution_count": 9,
   "id": "e8798318",
   "metadata": {},
   "outputs": [
    {
     "name": "stdout",
     "output_type": "stream",
     "text": [
      "📊 MAE: 608.48\n",
      "📊 RMSE: 1140.39\n",
      "📊 R² Score: 0.9932\n"
     ]
    }
   ],
   "source": [
    "from sklearn.metrics import mean_absolute_error, mean_squared_error, r2_score\n",
    "\n",
    "mae = mean_absolute_error(y_test, y_pred)\n",
    "rmse = mean_squared_error(y_test, y_pred) ** 0.5  # Manually compute RMSE\n",
    "r2 = r2_score(y_test, y_pred)\n",
    "\n",
    "print(f\"📊 MAE: {mae:.2f}\")\n",
    "print(f\"📊 RMSE: {rmse:.2f}\")\n",
    "print(f\"📊 R² Score: {r2:.4f}\")\n"
   ]
  },
  {
   "cell_type": "code",
   "execution_count": 10,
   "id": "0b28e2c6",
   "metadata": {},
   "outputs": [
    {
     "data": {
      "text/plain": [
       "['../models/rf_model_eia_2023.pkl']"
      ]
     },
     "execution_count": 10,
     "metadata": {},
     "output_type": "execute_result"
    }
   ],
   "source": [
    "import joblib\n",
    "\n",
    "joblib.dump(model, '../models/rf_model_eia_2023.pkl')\n"
   ]
  },
  {
   "cell_type": "code",
   "execution_count": null,
   "id": "62ece085",
   "metadata": {},
   "outputs": [],
   "source": []
  },
  {
   "cell_type": "code",
   "execution_count": null,
   "id": "1474676f",
   "metadata": {},
   "outputs": [],
   "source": []
  },
  {
   "cell_type": "code",
   "execution_count": null,
   "id": "223461c8",
   "metadata": {},
   "outputs": [],
   "source": []
  },
  {
   "cell_type": "code",
   "execution_count": null,
   "id": "2e9da72d",
   "metadata": {},
   "outputs": [],
   "source": []
  },
  {
   "cell_type": "code",
   "execution_count": null,
   "id": "d20dc42b",
   "metadata": {},
   "outputs": [],
   "source": []
  },
  {
   "cell_type": "code",
   "execution_count": null,
   "id": "2379583f",
   "metadata": {},
   "outputs": [],
   "source": []
  },
  {
   "cell_type": "code",
   "execution_count": null,
   "id": "28b5fb60",
   "metadata": {},
   "outputs": [],
   "source": []
  },
  {
   "cell_type": "code",
   "execution_count": null,
   "id": "0935c1fe",
   "metadata": {},
   "outputs": [],
   "source": []
  },
  {
   "cell_type": "code",
   "execution_count": null,
   "id": "cd5a8a2f",
   "metadata": {},
   "outputs": [],
   "source": []
  },
  {
   "cell_type": "code",
   "execution_count": null,
   "id": "965f049a",
   "metadata": {},
   "outputs": [],
   "source": []
  },
  {
   "cell_type": "code",
   "execution_count": null,
   "id": "b7d7be04",
   "metadata": {},
   "outputs": [],
   "source": []
  },
  {
   "cell_type": "code",
   "execution_count": null,
   "id": "edd038c8",
   "metadata": {},
   "outputs": [],
   "source": []
  }
 ],
 "metadata": {
  "kernelspec": {
   "display_name": "venv_energy",
   "language": "python",
   "name": "python3"
  },
  "language_info": {
   "codemirror_mode": {
    "name": "ipython",
    "version": 3
   },
   "file_extension": ".py",
   "mimetype": "text/x-python",
   "name": "python",
   "nbconvert_exporter": "python",
   "pygments_lexer": "ipython3",
   "version": "3.12.3"
  }
 },
 "nbformat": 4,
 "nbformat_minor": 5
}
